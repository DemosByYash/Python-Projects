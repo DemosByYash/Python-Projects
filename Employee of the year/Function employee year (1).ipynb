{
 "cells": [
  {
   "cell_type": "markdown",
   "id": "fba0acb7",
   "metadata": {},
   "source": [
    "# Today, I am going to make a function to find out 'employee of the year' on the basis of hours worked. "
   ]
  },
  {
   "cell_type": "markdown",
   "id": "c3158729",
   "metadata": {},
   "source": [
    "1---> I am creating some tuples pertaining to different years showing employee names and hours utilized."
   ]
  },
  {
   "cell_type": "code",
   "execution_count": 1,
   "id": "f8d62966",
   "metadata": {},
   "outputs": [],
   "source": [
    "work_tup_2021 = [('John', 400),('Peter', 700),('Rab', 900),('Joseph', 350)]\n",
    "work_tup_2022 = [('John', 700),('Peter', 600),('Rab', 690),('Joseph', 550)]\n",
    "work_tup_2023 = [('John', 500),('Peter', 800),('Rab', 770),('Joseph', 550)]"
   ]
  },
  {
   "cell_type": "markdown",
   "id": "fbdfb474",
   "metadata": {},
   "source": [
    "2---> Now, I will create a function using def for finding 'employee of the year'."
   ]
  },
  {
   "cell_type": "code",
   "execution_count": 2,
   "id": "f8b1889f",
   "metadata": {},
   "outputs": [],
   "source": [
    "def find_emp_year(worktup):\n",
    "    #creating placeholders\n",
    "    current_max = 0\n",
    "    emp_name = ''\n",
    "    \n",
    "    #now creating a loop to find employee with max hour\n",
    "    for employee,hours in worktup:\n",
    "        if hours > current_max:\n",
    "            emp_name = employee\n",
    "            current_max = hours\n",
    "        else:\n",
    "            pass\n",
    "    \n",
    "    year =  input('enter year to find:')    \n",
    "    print(f'employee of the year - {year}:',emp_name, f' || hours worked:',current_max)\n",
    "    return emp_name, current_max"
   ]
  },
  {
   "cell_type": "code",
   "execution_count": 3,
   "id": "f9068516",
   "metadata": {},
   "outputs": [
    {
     "name": "stdout",
     "output_type": "stream",
     "text": [
      "enter year to find:2021\n",
      "employee of the year - 2021: Rab  || hours worked: 900\n"
     ]
    }
   ],
   "source": [
    "emp_year_2021 = find_emp_year(work_tup_2021)"
   ]
  },
  {
   "cell_type": "code",
   "execution_count": 4,
   "id": "6ce789d6",
   "metadata": {
    "scrolled": false
   },
   "outputs": [
    {
     "name": "stdout",
     "output_type": "stream",
     "text": [
      "enter year to find:2022\n",
      "employee of the year - 2022: John  || hours worked: 700\n"
     ]
    }
   ],
   "source": [
    "emp_year_2022 = find_emp_year(work_tup_2022)"
   ]
  },
  {
   "cell_type": "code",
   "execution_count": 5,
   "id": "679b260c",
   "metadata": {},
   "outputs": [
    {
     "name": "stdout",
     "output_type": "stream",
     "text": [
      "enter year to find:2023\n",
      "employee of the year - 2023: Peter  || hours worked: 800\n"
     ]
    }
   ],
   "source": [
    "emp_year_2023 = find_emp_year(work_tup_2023)"
   ]
  },
  {
   "cell_type": "markdown",
   "id": "d0e362d4",
   "metadata": {},
   "source": [
    "Thankyou for viewing. Created by yash on Jupyter Notebook"
   ]
  },
  {
   "cell_type": "code",
   "execution_count": null,
   "id": "dbc11239",
   "metadata": {},
   "outputs": [],
   "source": []
  }
 ],
 "metadata": {
  "kernelspec": {
   "display_name": "Python 3 (ipykernel)",
   "language": "python",
   "name": "python3"
  },
  "language_info": {
   "codemirror_mode": {
    "name": "ipython",
    "version": 3
   },
   "file_extension": ".py",
   "mimetype": "text/x-python",
   "name": "python",
   "nbconvert_exporter": "python",
   "pygments_lexer": "ipython3",
   "version": "3.11.5"
  }
 },
 "nbformat": 4,
 "nbformat_minor": 5
}
