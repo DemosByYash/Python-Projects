{
 "cells": [
  {
   "cell_type": "markdown",
   "id": "08c4e062",
   "metadata": {},
   "source": [
    "# Captchas and OTP generators"
   ]
  },
  {
   "cell_type": "markdown",
   "id": "f988ec91",
   "metadata": {},
   "source": [
    "Function to produce a list of Captchas"
   ]
  },
  {
   "cell_type": "code",
   "execution_count": 1,
   "id": "1b230a8d",
   "metadata": {},
   "outputs": [],
   "source": [
    "import random\n",
    "import string"
   ]
  },
  {
   "cell_type": "code",
   "execution_count": 7,
   "id": "96efc19a",
   "metadata": {},
   "outputs": [],
   "source": [
    "#how_many = how many captchas?; total_char = number of char in each captcha\n",
    "def captcha_gen(how_many, total_char):\n",
    "    captcha_matrix = string.ascii_letters+string.digits\n",
    "    captchas = []\n",
    "    \n",
    "    #loop to get captchas according to requiremnet - how_many\n",
    "    for items in range(how_many):\n",
    "        captcha = ''.join(random.choice(captcha_matrix) for item in range(total_char))\n",
    "        captchas.append(captcha)\n",
    "    print(f'These are your captchas: {captchas}')\n",
    "    return captchas"
   ]
  },
  {
   "cell_type": "code",
   "execution_count": 8,
   "id": "38047ef3",
   "metadata": {},
   "outputs": [
    {
     "name": "stdout",
     "output_type": "stream",
     "text": [
      "These are your captchas: ['VKvgFK']\n"
     ]
    }
   ],
   "source": [
    "github_captchas = captcha_gen(how_many = 1, total_char = 6)"
   ]
  },
  {
   "cell_type": "code",
   "execution_count": 9,
   "id": "5c584fc3",
   "metadata": {},
   "outputs": [
    {
     "name": "stdout",
     "output_type": "stream",
     "text": [
      "['VKvgFK']\n"
     ]
    }
   ],
   "source": [
    "print(github_captchas)"
   ]
  },
  {
   "cell_type": "markdown",
   "id": "24a460b1",
   "metadata": {},
   "source": [
    "   "
   ]
  },
  {
   "cell_type": "markdown",
   "id": "0e67fda3",
   "metadata": {},
   "source": [
    "# OTP generators"
   ]
  },
  {
   "cell_type": "code",
   "execution_count": 17,
   "id": "6050116a",
   "metadata": {},
   "outputs": [],
   "source": [
    "def otp_gen():\n",
    "    the_otp = random.randint(100000,999999)\n",
    "    print(f'your otp: {the_otp}')\n",
    "    return the_otp"
   ]
  },
  {
   "cell_type": "code",
   "execution_count": 18,
   "id": "b8f9c50a",
   "metadata": {},
   "outputs": [
    {
     "name": "stdout",
     "output_type": "stream",
     "text": [
      "your otp: 928211\n"
     ]
    }
   ],
   "source": [
    "OTP_1 = otp_gen()"
   ]
  },
  {
   "cell_type": "code",
   "execution_count": null,
   "id": "7716e6a0",
   "metadata": {},
   "outputs": [],
   "source": []
  }
 ],
 "metadata": {
  "kernelspec": {
   "display_name": "Python 3 (ipykernel)",
   "language": "python",
   "name": "python3"
  },
  "language_info": {
   "codemirror_mode": {
    "name": "ipython",
    "version": 3
   },
   "file_extension": ".py",
   "mimetype": "text/x-python",
   "name": "python",
   "nbconvert_exporter": "python",
   "pygments_lexer": "ipython3",
   "version": "3.11.5"
  }
 },
 "nbformat": 4,
 "nbformat_minor": 5
}
