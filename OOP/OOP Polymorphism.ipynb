{
 "cells": [
  {
   "cell_type": "markdown",
   "id": "d1470f14",
   "metadata": {},
   "source": [
    "# OOP - Polymorphism"
   ]
  },
  {
   "cell_type": "markdown",
   "id": "162ceabb",
   "metadata": {},
   "source": [
    ">Instance 1"
   ]
  },
  {
   "cell_type": "code",
   "execution_count": 10,
   "id": "05f9fbb4",
   "metadata": {},
   "outputs": [],
   "source": [
    "class animal():\n",
    "    category = 'mammal'\n",
    "    def __init__(self,name):\n",
    "        self.name = name\n",
    "    def sound(self):\n",
    "        print(0)"
   ]
  },
  {
   "cell_type": "code",
   "execution_count": 18,
   "id": "bb405043",
   "metadata": {},
   "outputs": [],
   "source": [
    "class dog(animal):\n",
    "    def sound(self):\n",
    "        print(self.name + ' Bow')"
   ]
  },
  {
   "cell_type": "code",
   "execution_count": 19,
   "id": "f4760169",
   "metadata": {},
   "outputs": [],
   "source": [
    "mydog = dog('rich')"
   ]
  },
  {
   "cell_type": "code",
   "execution_count": 20,
   "id": "e754f66d",
   "metadata": {},
   "outputs": [
    {
     "name": "stdout",
     "output_type": "stream",
     "text": [
      "rich Bow\n"
     ]
    }
   ],
   "source": [
    "mydog.sound()"
   ]
  },
  {
   "cell_type": "markdown",
   "id": "fa9257e2",
   "metadata": {},
   "source": [
    ">Instance 2"
   ]
  },
  {
   "cell_type": "code",
   "execution_count": 23,
   "id": "7bba4b51",
   "metadata": {},
   "outputs": [],
   "source": [
    "class animal():\n",
    "    category = 'mammal'\n",
    "    def __init__(self,name):\n",
    "        self.name = name\n",
    "    def sound(self):\n",
    "        raise NotImplementedError('Error 209')"
   ]
  },
  {
   "cell_type": "code",
   "execution_count": 34,
   "id": "05b805ee",
   "metadata": {},
   "outputs": [],
   "source": [
    "class dog(animal):\n",
    "    def sound(self):\n",
    "        return self.name + ' Woofs'"
   ]
  },
  {
   "cell_type": "code",
   "execution_count": 35,
   "id": "12d94e84",
   "metadata": {},
   "outputs": [],
   "source": [
    "class cat(animal):\n",
    "    def sound(self):\n",
    "        return self.name + ' Meows'"
   ]
  },
  {
   "cell_type": "code",
   "execution_count": 36,
   "id": "df91934c",
   "metadata": {},
   "outputs": [],
   "source": [
    "mydog = dog('Woofie')\n",
    "mycat = cat('Kitty')"
   ]
  },
  {
   "cell_type": "code",
   "execution_count": 37,
   "id": "be3dbd90",
   "metadata": {},
   "outputs": [
    {
     "data": {
      "text/plain": [
       "'Woofie Woofs'"
      ]
     },
     "execution_count": 37,
     "metadata": {},
     "output_type": "execute_result"
    }
   ],
   "source": [
    "mydog.sound()"
   ]
  },
  {
   "cell_type": "code",
   "execution_count": 38,
   "id": "622f2c47",
   "metadata": {},
   "outputs": [
    {
     "data": {
      "text/plain": [
       "'Kitty Meows'"
      ]
     },
     "execution_count": 38,
     "metadata": {},
     "output_type": "execute_result"
    }
   ],
   "source": [
    "mycat.sound()"
   ]
  }
 ],
 "metadata": {
  "kernelspec": {
   "display_name": "Python 3 (ipykernel)",
   "language": "python",
   "name": "python3"
  },
  "language_info": {
   "codemirror_mode": {
    "name": "ipython",
    "version": 3
   },
   "file_extension": ".py",
   "mimetype": "text/x-python",
   "name": "python",
   "nbconvert_exporter": "python",
   "pygments_lexer": "ipython3",
   "version": "3.11.5"
  }
 },
 "nbformat": 4,
 "nbformat_minor": 5
}
