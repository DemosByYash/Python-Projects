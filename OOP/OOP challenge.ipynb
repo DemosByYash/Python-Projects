{
 "cells": [
  {
   "cell_type": "markdown",
   "id": "621cdd98",
   "metadata": {},
   "source": [
    "# OOP CHALLENGE"
   ]
  },
  {
   "cell_type": "raw",
   "id": "66a88ec0",
   "metadata": {},
   "source": [
    "Object Oriented Programming Challenge\n",
    "For this challenge, create a bank account class that has two attributes:\n",
    "\n",
    "owner\n",
    "balance\n",
    "and two methods:\n",
    "\n",
    "deposit\n",
    "withdraw\n",
    "As an added requirement, withdrawals may not exceed the available balance.\n",
    "\n",
    "Instantiate your class, make several deposits and withdrawals, and test to make sure the account can't be overdrawn."
   ]
  },
  {
   "cell_type": "code",
   "execution_count": 4,
   "id": "d1467b1c",
   "metadata": {},
   "outputs": [],
   "source": [
    "class bankaccount():\n",
    "    def __init__(self,owner,balance):\n",
    "        self.owner=owner\n",
    "        self.balance=balance\n",
    "    \n",
    "    def deposit(self, amount):\n",
    "        if amount > 0:\n",
    "            self.balance += amount\n",
    "            print(f'{amount} deposited successfully.')\n",
    "        else:\n",
    "            print('Invalid deposit amount.')\n",
    "    \n",
    "    def withdraw(self, amount):\n",
    "        if amount <= 0:\n",
    "            print('Invalid withdrawal amount.')\n",
    "        elif amount > self.balance:\n",
    "            print(f'Insufficient funds. Available balance: {self.balance}')\n",
    "        else:\n",
    "            self.balance -= amount\n",
    "            print(f'{amount} withdrawn successfully.')"
   ]
  },
  {
   "cell_type": "code",
   "execution_count": 5,
   "id": "483f4d87",
   "metadata": {},
   "outputs": [],
   "source": [
    "mybank = bankaccount(owner='yash',balance=10)"
   ]
  },
  {
   "cell_type": "code",
   "execution_count": 6,
   "id": "b4e447fa",
   "metadata": {},
   "outputs": [
    {
     "name": "stdout",
     "output_type": "stream",
     "text": [
      "5 withdrawn successfully.\n"
     ]
    }
   ],
   "source": [
    "mybank.withdraw(5)"
   ]
  },
  {
   "cell_type": "code",
   "execution_count": 9,
   "id": "9b9880ed",
   "metadata": {},
   "outputs": [
    {
     "name": "stdout",
     "output_type": "stream",
     "text": [
      "15 deposited successfully.\n"
     ]
    }
   ],
   "source": [
    "mybank.deposit(15)"
   ]
  },
  {
   "cell_type": "code",
   "execution_count": 10,
   "id": "d102398f",
   "metadata": {},
   "outputs": [
    {
     "data": {
      "text/plain": [
       "20"
      ]
     },
     "execution_count": 10,
     "metadata": {},
     "output_type": "execute_result"
    }
   ],
   "source": [
    "mybank.balance"
   ]
  }
 ],
 "metadata": {
  "kernelspec": {
   "display_name": "Python 3 (ipykernel)",
   "language": "python",
   "name": "python3"
  },
  "language_info": {
   "codemirror_mode": {
    "name": "ipython",
    "version": 3
   },
   "file_extension": ".py",
   "mimetype": "text/x-python",
   "name": "python",
   "nbconvert_exporter": "python",
   "pygments_lexer": "ipython3",
   "version": "3.11.5"
  }
 },
 "nbformat": 4,
 "nbformat_minor": 5
}
