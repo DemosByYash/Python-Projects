{
 "cells": [
  {
   "cell_type": "markdown",
   "id": "af34d7f6",
   "metadata": {},
   "source": [
    "# OOP - Special (Magic/Dunder) Methods"
   ]
  },
  {
   "cell_type": "code",
   "execution_count": 72,
   "id": "9563ef5d",
   "metadata": {},
   "outputs": [],
   "source": [
    "class animal():\n",
    "    def __init__(self,name,color,age):\n",
    "        self.name=name\n",
    "        self.color=color\n",
    "        self.age=age\n",
    "        \n",
    "    def __str__(self): #str\n",
    "        return \"name=%s, color=%s\" %(self.name, self.color)\n",
    "    \n",
    "    def __len__(self): #len\n",
    "        return self.age\n",
    "    \n",
    "    def __del__(self): #del\n",
    "        print('previous entry has been deleted')"
   ]
  },
  {
   "cell_type": "code",
   "execution_count": 73,
   "id": "8d3a6df1",
   "metadata": {},
   "outputs": [],
   "source": [
    "dog = animal(name='woofie',color='brown',age=6)"
   ]
  },
  {
   "cell_type": "code",
   "execution_count": 74,
   "id": "8b7366a2",
   "metadata": {},
   "outputs": [
    {
     "name": "stdout",
     "output_type": "stream",
     "text": [
      "name=woofie, color=brown\n"
     ]
    }
   ],
   "source": [
    "print(dog)"
   ]
  },
  {
   "cell_type": "code",
   "execution_count": 75,
   "id": "a50fb825",
   "metadata": {},
   "outputs": [
    {
     "data": {
      "text/plain": [
       "6"
      ]
     },
     "execution_count": 75,
     "metadata": {},
     "output_type": "execute_result"
    }
   ],
   "source": [
    "len(dog)"
   ]
  },
  {
   "cell_type": "code",
   "execution_count": 76,
   "id": "f74a0ad5",
   "metadata": {},
   "outputs": [
    {
     "name": "stdout",
     "output_type": "stream",
     "text": [
      "previous entry has been deleted\n"
     ]
    }
   ],
   "source": [
    "del dog"
   ]
  },
  {
   "cell_type": "code",
   "execution_count": 77,
   "id": "7a7008a0",
   "metadata": {},
   "outputs": [
    {
     "ename": "NameError",
     "evalue": "name 'dog' is not defined",
     "output_type": "error",
     "traceback": [
      "\u001b[1;31m---------------------------------------------------------------------------\u001b[0m",
      "\u001b[1;31mNameError\u001b[0m                                 Traceback (most recent call last)",
      "Cell \u001b[1;32mIn[77], line 1\u001b[0m\n\u001b[1;32m----> 1\u001b[0m \u001b[38;5;28mprint\u001b[39m(dog)\n",
      "\u001b[1;31mNameError\u001b[0m: name 'dog' is not defined"
     ]
    }
   ],
   "source": [
    "print(dog)  #deleted the variable dog"
   ]
  }
 ],
 "metadata": {
  "kernelspec": {
   "display_name": "Python 3 (ipykernel)",
   "language": "python",
   "name": "python3"
  },
  "language_info": {
   "codemirror_mode": {
    "name": "ipython",
    "version": 3
   },
   "file_extension": ".py",
   "mimetype": "text/x-python",
   "name": "python",
   "nbconvert_exporter": "python",
   "pygments_lexer": "ipython3",
   "version": "3.11.5"
  }
 },
 "nbformat": 4,
 "nbformat_minor": 5
}
