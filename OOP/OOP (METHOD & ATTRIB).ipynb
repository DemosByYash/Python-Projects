{
 "cells": [
  {
   "cell_type": "markdown",
   "id": "1b4b192d",
   "metadata": {},
   "source": [
    "#         OOP - Class - Class Object Attribute - User-Defined Attributes and Methods"
   ]
  },
  {
   "cell_type": "code",
   "execution_count": 17,
   "id": "ed5982c2",
   "metadata": {},
   "outputs": [],
   "source": [
    "class circle():    #user_def_class\n",
    "    #class_obj_attr\n",
    "    pi = 3.5\n",
    "    def __init__(self,radius):\n",
    "        self.radius = radius\n",
    "        self.area = circle.pi*(self.radius**2)\n",
    "    def circumfrence(self):\n",
    "        return 2*circle.pi*self.radius"
   ]
  },
  {
   "cell_type": "code",
   "execution_count": 19,
   "id": "238a29a6",
   "metadata": {},
   "outputs": [
    {
     "data": {
      "text/plain": [
       "__main__.circle"
      ]
     },
     "execution_count": 19,
     "metadata": {},
     "output_type": "execute_result"
    }
   ],
   "source": [
    "mycircle = circle(radius=5)\n",
    "type(mycircle)"
   ]
  },
  {
   "cell_type": "code",
   "execution_count": 20,
   "id": "933e9a97",
   "metadata": {},
   "outputs": [
    {
     "data": {
      "text/plain": [
       "5"
      ]
     },
     "execution_count": 20,
     "metadata": {},
     "output_type": "execute_result"
    }
   ],
   "source": [
    "mycircle.radius"
   ]
  },
  {
   "cell_type": "code",
   "execution_count": 21,
   "id": "e3c434ed",
   "metadata": {},
   "outputs": [
    {
     "data": {
      "text/plain": [
       "87.5"
      ]
     },
     "execution_count": 21,
     "metadata": {},
     "output_type": "execute_result"
    }
   ],
   "source": [
    "mycircle.area"
   ]
  },
  {
   "cell_type": "code",
   "execution_count": 22,
   "id": "59345dcc",
   "metadata": {},
   "outputs": [
    {
     "data": {
      "text/plain": [
       "35.0"
      ]
     },
     "execution_count": 22,
     "metadata": {},
     "output_type": "execute_result"
    }
   ],
   "source": [
    "mycircle.circumfrence()"
   ]
  },
  {
   "cell_type": "markdown",
   "id": "219e09ca",
   "metadata": {},
   "source": [
    "💻The End💻"
   ]
  }
 ],
 "metadata": {
  "kernelspec": {
   "display_name": "Python 3 (ipykernel)",
   "language": "python",
   "name": "python3"
  },
  "language_info": {
   "codemirror_mode": {
    "name": "ipython",
    "version": 3
   },
   "file_extension": ".py",
   "mimetype": "text/x-python",
   "name": "python",
   "nbconvert_exporter": "python",
   "pygments_lexer": "ipython3",
   "version": "3.11.5"
  }
 },
 "nbformat": 4,
 "nbformat_minor": 5
}
