{
 "cells": [
  {
   "cell_type": "markdown",
   "id": "6262f0f3",
   "metadata": {},
   "source": [
    "# OOP Inheritance"
   ]
  },
  {
   "cell_type": "markdown",
   "id": "1a9a8f42",
   "metadata": {},
   "source": [
    ">Instance 1"
   ]
  },
  {
   "cell_type": "code",
   "execution_count": 66,
   "id": "504c8b22",
   "metadata": {},
   "outputs": [],
   "source": [
    "class animal():\n",
    "    category = 'mammal'\n",
    "    def __init__(self, breed, color):\n",
    "        self.breed = breed\n",
    "        self.color = color\n",
    "\n",
    "#-------------------------------------\n",
    "\n",
    "class dog(animal):\n",
    "    def __init__(self, breed, color):\n",
    "        animal.__init__(self, breed, color)"
   ]
  },
  {
   "cell_type": "code",
   "execution_count": 67,
   "id": "4ae2f169",
   "metadata": {},
   "outputs": [],
   "source": [
    "mydog = dog(breed='lab', color='brown')"
   ]
  },
  {
   "cell_type": "code",
   "execution_count": 68,
   "id": "221a4ac9",
   "metadata": {},
   "outputs": [
    {
     "data": {
      "text/plain": [
       "'lab'"
      ]
     },
     "execution_count": 68,
     "metadata": {},
     "output_type": "execute_result"
    }
   ],
   "source": [
    "mydog.breed"
   ]
  },
  {
   "cell_type": "code",
   "execution_count": 69,
   "id": "d00a5d32",
   "metadata": {},
   "outputs": [
    {
     "data": {
      "text/plain": [
       "'brown'"
      ]
     },
     "execution_count": 69,
     "metadata": {},
     "output_type": "execute_result"
    }
   ],
   "source": [
    "mydog.color"
   ]
  },
  {
   "cell_type": "markdown",
   "id": "d8aeb9eb",
   "metadata": {},
   "source": [
    ">Instance 2"
   ]
  },
  {
   "cell_type": "code",
   "execution_count": 70,
   "id": "22ee7546",
   "metadata": {},
   "outputs": [],
   "source": [
    "class animal():\n",
    "    category = 'mammal'\n",
    "    def __init__(self, breed, color):\n",
    "        self.breed = breed\n",
    "        self.color = color\n",
    "        \n",
    "#-------------------------------------\n",
    "\n",
    "class dog(animal):\n",
    "    def __init__(self, breed, color, spots):\n",
    "        super().__init__(breed, color)\n",
    "        self.spots = spots\n",
    "        self.category = animal.category"
   ]
  },
  {
   "cell_type": "code",
   "execution_count": 71,
   "id": "459319f4",
   "metadata": {},
   "outputs": [],
   "source": [
    "yourdog = dog(breed='Lab',color='Brown',spots=False)"
   ]
  },
  {
   "cell_type": "code",
   "execution_count": 72,
   "id": "5512d337",
   "metadata": {},
   "outputs": [
    {
     "data": {
      "text/plain": [
       "'Lab'"
      ]
     },
     "execution_count": 72,
     "metadata": {},
     "output_type": "execute_result"
    }
   ],
   "source": [
    "yourdog.breed"
   ]
  },
  {
   "cell_type": "code",
   "execution_count": 73,
   "id": "deadfd55",
   "metadata": {},
   "outputs": [
    {
     "data": {
      "text/plain": [
       "'mammal'"
      ]
     },
     "execution_count": 73,
     "metadata": {},
     "output_type": "execute_result"
    }
   ],
   "source": [
    "yourdog.category"
   ]
  },
  {
   "cell_type": "code",
   "execution_count": 74,
   "id": "f98ba868",
   "metadata": {},
   "outputs": [
    {
     "data": {
      "text/plain": [
       "'Brown'"
      ]
     },
     "execution_count": 74,
     "metadata": {},
     "output_type": "execute_result"
    }
   ],
   "source": [
    "yourdog.color"
   ]
  },
  {
   "cell_type": "code",
   "execution_count": 75,
   "id": "78bc33b0",
   "metadata": {},
   "outputs": [
    {
     "data": {
      "text/plain": [
       "False"
      ]
     },
     "execution_count": 75,
     "metadata": {},
     "output_type": "execute_result"
    }
   ],
   "source": [
    "yourdog.spots"
   ]
  },
  {
   "cell_type": "markdown",
   "id": "5d5815f1",
   "metadata": {},
   "source": [
    ">Instance 3"
   ]
  },
  {
   "cell_type": "code",
   "execution_count": 61,
   "id": "f07648d1",
   "metadata": {},
   "outputs": [],
   "source": [
    "class animal():\n",
    "    category = 'mammal'\n",
    "    def __init__(self,name):\n",
    "        self.name=name\n",
    "        \n",
    "#---------------------------\n",
    "\n",
    "class dog(animal):\n",
    "    def name1(self):\n",
    "       return self.name"
   ]
  },
  {
   "cell_type": "code",
   "execution_count": 62,
   "id": "3a9c73b5",
   "metadata": {},
   "outputs": [],
   "source": [
    "mydog = dog('Woofie')"
   ]
  },
  {
   "cell_type": "code",
   "execution_count": 63,
   "id": "79fce46e",
   "metadata": {},
   "outputs": [
    {
     "data": {
      "text/plain": [
       "'Woofie'"
      ]
     },
     "execution_count": 63,
     "metadata": {},
     "output_type": "execute_result"
    }
   ],
   "source": [
    "mydog.name"
   ]
  },
  {
   "cell_type": "code",
   "execution_count": 65,
   "id": "c876ee56",
   "metadata": {},
   "outputs": [
    {
     "data": {
      "text/plain": [
       "'Woofie'"
      ]
     },
     "execution_count": 65,
     "metadata": {},
     "output_type": "execute_result"
    }
   ],
   "source": [
    "mydog.name1()"
   ]
  }
 ],
 "metadata": {
  "kernelspec": {
   "display_name": "Python 3 (ipykernel)",
   "language": "python",
   "name": "python3"
  },
  "language_info": {
   "codemirror_mode": {
    "name": "ipython",
    "version": 3
   },
   "file_extension": ".py",
   "mimetype": "text/x-python",
   "name": "python",
   "nbconvert_exporter": "python",
   "pygments_lexer": "ipython3",
   "version": "3.11.5"
  }
 },
 "nbformat": 4,
 "nbformat_minor": 5
}
